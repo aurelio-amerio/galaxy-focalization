{
 "cells": [
  {
   "cell_type": "code",
   "execution_count": 17,
   "metadata": {},
   "outputs": [],
   "source": [
    "import keras\n",
    "import numpy as np\n",
    "\n",
    "from keras.layers import Conv2D, Input, Conv2DTranspose, BatchNormalization, Dropout\n",
    "from keras.models import Model\n",
    "import keras.backend as K\n",
    "\n",
    "import matplotlib.pyplot as plt\n",
    "%matplotlib inline"
   ]
  },
  {
   "cell_type": "code",
   "execution_count": 18,
   "metadata": {},
   "outputs": [],
   "source": [
    "from GeneratorClass import DataGeneratorEncoders_MLP, DataGeneratorEncoders_CNN\n",
    "\n",
    "def get_data_by_ID(np_dict, ID):\n",
    "    return np_dict[\"sample-{0}/noisy\".format(ID)], np_dict[\"sample-{0}/orig\".format(ID)]\n",
    "\n",
    "def get_data_by_ID_orig(np_dict, ID):\n",
    "    data = np_dict[\"sample-{0}/orig\".format(ID)]\n",
    "    return data, data"
   ]
  },
  {
   "cell_type": "code",
   "execution_count": 23,
   "metadata": {},
   "outputs": [],
   "source": [
    "# In[1]:\n",
    "fileVer = 3\n",
    "dataset_size = 10000\n",
    "data_percentage = 1.\n",
    "\n",
    "img_size = 64\n",
    "n_width = 64\n",
    "n_height = 64\n",
    "n_depth = 1\n",
    "\n",
    "#n_epochs = 70\n",
    "#learning_rate = 1e-3\n",
    "#lr_decay = 0.002\n",
    "#batch_size = 32\n",
    "\n",
    "filePath = \"G:\\\\Il mio Drive\\\\conquistiamo l'Universo\\\\Aurelio\\\\risoluzione_punti\\\\notebooks\\\\CNN autoencoder v{1}\\\\data\\\\img_64x64_v3\\\\img_{0}x{0}.npz\".format(\n",
    "    img_size, fileVer)\n",
    "loaded = np.load(filePath)\n",
    "\n",
    "\n",
    "def get_data_fn(ID):\n",
    "    return get_data_by_ID(loaded, ID)\n",
    "\n",
    "def get_data_orig_fn(ID):\n",
    "    return get_data_by_ID_orig(loaded, ID)\n"
   ]
  },
  {
   "cell_type": "code",
   "execution_count": 24,
   "metadata": {},
   "outputs": [],
   "source": [
    "# %% list of ids\n",
    "total_dataset_size = int(dataset_size * data_percentage)\n",
    "\n",
    "id_mask = np.arange(0, total_dataset_size)\n",
    "np.random.shuffle(id_mask)\n",
    "\n",
    "lista_ID_training = id_mask[0:int(0.7 * total_dataset_size)]\n",
    "lista_ID_validation = id_mask[int(0.7 * total_dataset_size):int(0.8 * total_dataset_size)]\n",
    "lista_ID_test = id_mask[int(0.8 * total_dataset_size):total_dataset_size]"
   ]
  },
  {
   "cell_type": "markdown",
   "metadata": {},
   "source": [
    "create generators to feed data into model"
   ]
  },
  {
   "cell_type": "code",
   "execution_count": 25,
   "metadata": {},
   "outputs": [],
   "source": [
    "params_CNN = {'get_data_fn': get_data_fn,\n",
    "              'dim': (n_height, n_width),\n",
    "              'batch_size': batch_size,\n",
    "              'n_channels': n_depth,\n",
    "              'shuffle': True}\n",
    "\n",
    "VAE_generator_CNN_train = DataGeneratorEncoders_CNN(lista_ID_training, **params_CNN)\n",
    "VAE_generator_CNN_val = DataGeneratorEncoders_CNN(lista_ID_validation, **params_CNN)\n",
    "VAE_generator_CNN_test = DataGeneratorEncoders_CNN(lista_ID_test, **params_CNN)\n"
   ]
  },
  {
   "cell_type": "markdown",
   "metadata": {},
   "source": [
    "# CNN"
   ]
  },
  {
   "cell_type": "code",
   "execution_count": 26,
   "metadata": {},
   "outputs": [
    {
     "name": "stdout",
     "output_type": "stream",
     "text": [
      "_________________________________________________________________\n",
      "Layer (type)                 Output Shape              Param #   \n",
      "=================================================================\n",
      "input_layer (InputLayer)     (None, 64, 64, 1)         0         \n",
      "_________________________________________________________________\n",
      "conv_0 (Conv2D)              (None, 62, 62, 32)        320       \n",
      "_________________________________________________________________\n",
      "batch_norm_enc_0 (BatchNorma (None, 62, 62, 32)        128       \n",
      "_________________________________________________________________\n",
      "conv_1 (Conv2D)              (None, 60, 60, 32)        9248      \n",
      "_________________________________________________________________\n",
      "batch_norm_enc_1 (BatchNorma (None, 60, 60, 32)        128       \n",
      "_________________________________________________________________\n",
      "dec_conv_1 (Conv2DTranspose) (None, 62, 62, 32)        9248      \n",
      "_________________________________________________________________\n",
      "batch_norm_dec_1 (BatchNorma (None, 62, 62, 32)        128       \n",
      "_________________________________________________________________\n",
      "dec_conv_0 (Conv2DTranspose) (None, 64, 64, 32)        9248      \n",
      "_________________________________________________________________\n",
      "batch_norm_dec_0 (BatchNorma (None, 64, 64, 32)        128       \n",
      "_________________________________________________________________\n",
      "output_layer (Conv2DTranspos (None, 64, 64, 1)         289       \n",
      "=================================================================\n",
      "Total params: 28,865\n",
      "Trainable params: 28,609\n",
      "Non-trainable params: 256\n",
      "_________________________________________________________________\n"
     ]
    }
   ],
   "source": [
    "n_layers = 2\n",
    "n_filters = [32, 32]\n",
    "kernel_size = 3\n",
    "\n",
    "input_layer = Input(shape=(n_height, n_width, n_depth), name=\"input_layer\")\n",
    "layer = input_layer\n",
    "\n",
    "#encoder\n",
    "\n",
    "\n",
    "for i in range(n_layers):\n",
    "    layer = Conv2D(filters=n_filters[i], kernel_size=kernel_size, strides=1, padding='valid', activation='relu',\n",
    "                   name=\"conv_{0}\".format(i))(layer)\n",
    "    layer = BatchNormalization(name=\"batch_norm_enc_{}\".format(i))(layer)\n",
    "\n",
    "#decoder\n",
    "\n",
    "for i in range(n_layers - 1, -1, -1):\n",
    "    layer = Conv2DTranspose(filters=n_filters[i], kernel_size=kernel_size, strides=1, padding='valid',\n",
    "                            activation='relu',\n",
    "                            name=\"dec_conv_{0}\".format(i))(layer)\n",
    "    layer = BatchNormalization(name=\"batch_norm_dec_{}\".format(i))(layer)\n",
    "\n",
    "#build output layer\n",
    "output_layer = Conv2DTranspose(filters=1, kernel_size=kernel_size, padding='same', activation='linear',\n",
    "                               name=\"output_layer\")(layer)\n",
    "\n",
    "model_CNN = Model(input_layer, output_layer)\n",
    "\n",
    "#print summary of the model\n",
    "model_CNN.summary()\n"
   ]
  },
  {
   "cell_type": "code",
   "execution_count": 36,
   "metadata": {},
   "outputs": [],
   "source": [
    "learning_rate = 1e-4\n",
    "lr_decay = 0.02\n",
    "batch_size = 32\n",
    "\n",
    "#compile model\n",
    "model_CNN.compile(loss='mse', optimizer=keras.optimizers.Adam(lr=learning_rate, decay=lr_decay),\n",
    "                  metrics=['accuracy'])"
   ]
  },
  {
   "cell_type": "code",
   "execution_count": 37,
   "metadata": {},
   "outputs": [],
   "source": [
    "steps_per_epoch = len(VAE_generator_CNN_train)\n",
    "steps_per_epoch_val = len(VAE_generator_CNN_val)"
   ]
  },
  {
   "cell_type": "code",
   "execution_count": 38,
   "metadata": {
    "scrolled": true
   },
   "outputs": [
    {
     "name": "stdout",
     "output_type": "stream",
     "text": [
      "Epoch 1/20\n",
      "218/218 [==============================] - 31s 141ms/step - loss: 1.4751e-04 - acc: 0.8459 - val_loss: 1.9681e-04 - val_acc: 0.8470\n",
      "Epoch 2/20\n",
      "218/218 [==============================] - 29s 134ms/step - loss: 1.3290e-04 - acc: 0.8459 - val_loss: 2.0912e-04 - val_acc: 0.8470\n",
      "Epoch 3/20\n",
      "218/218 [==============================] - 30s 137ms/step - loss: 1.3067e-04 - acc: 0.8459 - val_loss: 1.5269e-04 - val_acc: 0.8470\n",
      "Epoch 4/20\n",
      "218/218 [==============================] - 28s 129ms/step - loss: 1.2923e-04 - acc: 0.8459 - val_loss: 1.3153e-04 - val_acc: 0.8470\n",
      "Epoch 5/20\n",
      "218/218 [==============================] - 29s 132ms/step - loss: 1.2825e-04 - acc: 0.8459 - val_loss: 1.1434e-04 - val_acc: 0.8470\n",
      "Epoch 6/20\n",
      "218/218 [==============================] - 29s 134ms/step - loss: 1.2745e-04 - acc: 0.8459 - val_loss: 1.1319e-04 - val_acc: 0.8470\n",
      "Epoch 7/20\n",
      "218/218 [==============================] - 28s 129ms/step - loss: 1.2675e-04 - acc: 0.8459 - val_loss: 1.0768e-04 - val_acc: 0.8470\n",
      "Epoch 8/20\n",
      "218/218 [==============================] - 29s 131ms/step - loss: 1.2611e-04 - acc: 0.8459 - val_loss: 1.1015e-04 - val_acc: 0.8470\n",
      "Epoch 9/20\n",
      "218/218 [==============================] - 28s 129ms/step - loss: 1.2553e-04 - acc: 0.8459 - val_loss: 1.0696e-04 - val_acc: 0.8470\n",
      "Epoch 10/20\n",
      "218/218 [==============================] - 28s 128ms/step - loss: 1.2500e-04 - acc: 0.8459 - val_loss: 1.0776e-04 - val_acc: 0.8470\n",
      "Epoch 11/20\n",
      "218/218 [==============================] - 28s 129ms/step - loss: 1.2452e-04 - acc: 0.8459 - val_loss: 1.0475e-04 - val_acc: 0.8470\n",
      "Epoch 12/20\n",
      "218/218 [==============================] - 28s 130ms/step - loss: 1.2409e-04 - acc: 0.8459 - val_loss: 1.0570e-04 - val_acc: 0.8470\n",
      "Epoch 13/20\n",
      "218/218 [==============================] - 29s 132ms/step - loss: 1.2370e-04 - acc: 0.8459 - val_loss: 1.0422e-04 - val_acc: 0.8470\n",
      "Epoch 14/20\n",
      "218/218 [==============================] - 29s 131ms/step - loss: 1.2334e-04 - acc: 0.8459 - val_loss: 1.0467e-04 - val_acc: 0.8470\n",
      "Epoch 15/20\n",
      "218/218 [==============================] - 28s 129ms/step - loss: 1.2301e-04 - acc: 0.8459 - val_loss: 1.0299e-04 - val_acc: 0.8470\n",
      "Epoch 16/20\n",
      "218/218 [==============================] - 28s 129ms/step - loss: 1.2272e-04 - acc: 0.8459 - val_loss: 1.0353e-04 - val_acc: 0.8470\n",
      "Epoch 17/20\n",
      "218/218 [==============================] - 28s 128ms/step - loss: 1.2244e-04 - acc: 0.8459 - val_loss: 1.0336e-04 - val_acc: 0.8470\n",
      "Epoch 18/20\n",
      "218/218 [==============================] - 28s 129ms/step - loss: 1.2218e-04 - acc: 0.8459 - val_loss: 1.0199e-04 - val_acc: 0.8470\n",
      "Epoch 19/20\n",
      "218/218 [==============================] - 28s 128ms/step - loss: 1.2195e-04 - acc: 0.8459 - val_loss: 1.0270e-04 - val_acc: 0.8470\n",
      "Epoch 20/20\n",
      "218/218 [==============================] - 28s 129ms/step - loss: 1.2172e-04 - acc: 0.8459 - val_loss: 1.0259e-04 - val_acc: 0.8470\n"
     ]
    },
    {
     "data": {
      "text/plain": [
       "<keras.callbacks.History at 0x2e1851def28>"
      ]
     },
     "execution_count": 38,
     "metadata": {},
     "output_type": "execute_result"
    }
   ],
   "source": [
    "n_epochs=20\n",
    "\n",
    "model_CNN.fit_generator(generator=VAE_generator_CNN_train, steps_per_epoch=steps_per_epoch,\n",
    "                            validation_data=VAE_generator_CNN_val, validation_steps=steps_per_epoch_val,\n",
    "                            epochs=n_epochs,\n",
    "                            use_multiprocessing=True,\n",
    "                            workers=0, verbose=1)"
   ]
  },
  {
   "cell_type": "code",
   "execution_count": 43,
   "metadata": {},
   "outputs": [
    {
     "data": {
      "image/png": "[encoded data removed]",
      "text/plain": [
       "<Figure size 864x576 with 6 Axes>"
      ]
     },
     "metadata": {},
     "output_type": "display_data"
    }
   ],
   "source": [
    "saple_id=4\n",
    "\n",
    "data_tmp = np.array(VAE_generator_CNN_test.__getitem__(saple_id))[:,0,:,:,0]\n",
    "\n",
    "X1_plt,X2_plt = data_tmp\n",
    "\n",
    "X1=X1_plt.reshape((1,n_height,n_width,1))\n",
    "X2=X2_plt.reshape((1,n_height,n_width,1))\n",
    "\n",
    "Y_test_pred1 = model_CNN.predict(X1).reshape((n_height, n_width))\n",
    "Y_test_pred2 = model_CNN.predict(X2).reshape((n_height, n_width))\n",
    "\n",
    "fig2, axis2 = plt.subplots(2, 3, figsize=(12, 8))\n",
    "axis2[0, 0].imshow(X2_plt, cmap=\"Greys_r\")\n",
    "axis2[0, 0].set_title(\"original\")\n",
    "axis2[1, 0].imshow(X1_plt, cmap=\"Greys_r\")\n",
    "axis2[1, 0].set_title(\"noisy\")\n",
    "\n",
    "axis2[0, 1].imshow(Y_test_pred2, cmap=\"Greys_r\")\n",
    "axis2[0, 1].set_title(\"reconstructed_orig\")\n",
    "axis2[1, 1].imshow(Y_test_pred1, cmap=\"Greys_r\")\n",
    "axis2[1, 1].set_title(\"reconstruct_noisy\")\n",
    "\n",
    "axis2[0, 2].imshow(X2_plt, cmap=\"Greys_r\")\n",
    "axis2[0, 2].set_title(\"target\")\n",
    "axis2[1, 2].imshow(Y_test_pred1, cmap=\"Greys_r\")\n",
    "axis2[1, 2].set_title(\"reconstructed\")\n",
    "\n",
    "fig2.tight_layout()\n",
    "plt.show()"
   ]
  },
  {
   "cell_type": "code",
   "execution_count": null,
   "metadata": {},
   "outputs": [],
   "source": []
  }
 ],
 "metadata": {
  "kernelspec": {
   "display_name": "Python 3",
   "language": "python",
   "name": "python3"
  },
  "language_info": {
   "codemirror_mode": {
    "name": "ipython",
    "version": 3
   },
   "file_extension": ".py",
   "mimetype": "text/x-python",
   "name": "python",
   "nbconvert_exporter": "python",
   "pygments_lexer": "ipython3",
   "version": "3.5.5"
  }
 },
 "nbformat": 4,
 "nbformat_minor": 2
}
