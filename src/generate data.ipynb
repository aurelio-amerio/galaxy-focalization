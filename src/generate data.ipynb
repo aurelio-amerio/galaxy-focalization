{
 "cells": [
  {
   "cell_type": "markdown",
   "metadata": {},
   "source": [
    "# samples generation"
   ]
  },
  {
   "cell_type": "code",
   "execution_count": 5,
   "metadata": {},
   "outputs": [],
   "source": [
    "import os\n",
    "import numpy as np\n",
    "\n",
    "\n",
    "class MakeDataset:\n",
    "    \"\"\"Class to make a dataset of mages with n points not overlapping\"\"\"\n",
    "    def __init__(self, img_size, point_size, n_points_range, n_images, sigma=0.22, mu=0., mag_factor_range=(1, 2), padding=0):\n",
    "        self.img_size = img_size - 2 * padding\n",
    "        self.img_size_total = img_size\n",
    "        self.pad = padding\n",
    "        self.point_size = point_size\n",
    "        self.n_points_range = n_points_range\n",
    "        self.sigma = sigma\n",
    "        self.mu = mu\n",
    "        self.mag_factor_range = mag_factor_range\n",
    "        self.n_images = n_images\n",
    "\n",
    "        self.data_created = False\n",
    "\n",
    "        self.images_ = np.zeros((self.n_images, self.img_size_total, self.img_size_total))\n",
    "        self.images_noisy_ = np.zeros((self.n_images, self.img_size_total, self.img_size_total))\n",
    "\n",
    "        self.images_dict_ = {}\n",
    "\n",
    "    @staticmethod\n",
    "    def _gaussian_matrix(point_size, sigma, mu):\n",
    "        img_size, sigma, mu = point_size, sigma, mu\n",
    "\n",
    "        x, y = np.meshgrid(np.linspace(-1, 1, img_size + 1), np.linspace(-1, 1, img_size + 1))\n",
    "        d = np.sqrt(x * x + y * y)\n",
    "        g = np.exp(-((d - mu) ** 2 / (2.0 * sigma ** 2)))\n",
    "\n",
    "        return g\n",
    "\n",
    "    def _make_sample(self, n_points, point_patch_sml, point_patches_big, point_patch_size, stride_fraction=2):\n",
    "        image_sml = np.zeros((self.img_size, self.img_size))\n",
    "        image_big = np.zeros((self.img_size, self.img_size))\n",
    "        pps = int(round(point_patch_size/stride_fraction))\n",
    "        ppc = np.ceil(point_patch_size / 2)  # point_patch_center\n",
    "        ppr = np.floor(point_patch_size / 2)  # point_patch_radius\n",
    "\n",
    "        x = np.arange(ppc, self.img_size - ppc, pps)\n",
    "        x = np.repeat(x, len(x))\n",
    "        np.random.shuffle(x)\n",
    "        y = np.arange(ppc, self.img_size - ppc, pps)\n",
    "        y = np.repeat(y, len(y))\n",
    "        np.random.shuffle(y)\n",
    "        \n",
    "        \n",
    "        \n",
    "        if n_points > len(x):\n",
    "            print(\"too many poinits\")\n",
    "            return\n",
    "        \n",
    "        \n",
    "        \n",
    "        for i in np.arange(n_points):\n",
    "            \n",
    "            min_y = int(y[i] - ppr)\n",
    "            max_y = int(y[i] + ppr + 1)\n",
    "\n",
    "            min_x = int(x[i] - ppr)\n",
    "            max_x = int(x[i] + ppr + 1)\n",
    "\n",
    "            #print(min_y, max_y, min_x, max_x)\n",
    "\n",
    "            image_sml[min_y:max_y, min_x: max_x] += point_patch_sml\n",
    "            image_big[min_y:max_y, min_x: max_x] += point_patches_big[i]\n",
    "\n",
    "        image_sml_padded = np.pad(image_sml, ((self.pad, self.pad), (self.pad, self.pad)), \"constant\")\n",
    "        image_big_padded = np.pad(image_big, ((self.pad, self.pad), (self.pad, self.pad)), \"constant\")\n",
    "        return image_sml_padded, image_big_padded\n",
    "\n",
    "    def make_n_samples(self, n_images=None, stride_fraction=2):\n",
    "        if n_images is not None:\n",
    "            n_samples = n_images\n",
    "        else:\n",
    "            n_samples = self.n_images\n",
    "        \n",
    "        n_mag_factors=30\n",
    "        mag_factor = np.linspace(*self.mag_factor_range,n_mag_factors)\n",
    "        patches_big = np.array([self._gaussian_matrix(self.point_size, self.sigma * mag_factor[i], self.mu) \n",
    "                                for i in np.arange(n_mag_factors)])\n",
    "        patch_sml = self._gaussian_matrix(self.point_size, self.sigma, self.mu)\n",
    "        n_points = np.random.randint(self.n_points_range[0], self.n_points_range[1]+1, size=n_samples)\n",
    "\n",
    "        for i in np.arange(n_samples):\n",
    "            i_big_patch = np.random.randint(0,n_mag_factors,size=(n_samples))\n",
    "            self.images_[i,], self.images_noisy_[i,] = self._make_sample(n_points=n_points[i],\n",
    "                                                                         point_patch_sml=patch_sml,\n",
    "                                                                         point_patches_big=patches_big[i_big_patch],\n",
    "                                                                         point_patch_size=self.point_size,\n",
    "                                                                         stride_fraction=stride_fraction)\n",
    "            if i % 100 == 0:\n",
    "                print(\"sample {0} created\".format(i))\n",
    "        \n",
    "        print(\"done!\")\n",
    "        self.data_created = True\n",
    "        return\n",
    "\n",
    "    def _create_dict(self):\n",
    "\n",
    "        for i in np.arange(len(self.images_)):\n",
    "            self.images_dict_['sample-{0}/orig'.format(i)] = self.images_[i,]\n",
    "            self.images_dict_['sample-{0}/noisy'.format(i)] = self.images_noisy_[i,]\n",
    "        return\n",
    "\n",
    "    def export_dataset(self, path=None):\n",
    "        if self.data_created is False:\n",
    "            print(\"must call make_n_samples first!\")\n",
    "            return\n",
    "        else:\n",
    "            if path is None:\n",
    "                export_path = os.getcwd() + \"\\\\data\\\\img_{0}x{0}\".format(self.img_size_total)\n",
    "            else:\n",
    "                export_path = path\n",
    "\n",
    "            if not os.path.exists(export_path):\n",
    "                os.makedirs(export_path)\n",
    "\n",
    "            self._create_dict()\n",
    "            \n",
    "            print(\"starting file export...\")\n",
    "            np.savez_compressed(export_path + \"\\\\img_{0}x{0}\".format(self.img_size_total), **self.images_dict_)\n",
    "            print(\"file exported!\")\n",
    "            return  \n",
    "    def export_arrays(self, path=None):\n",
    "        if self.data_created is False:\n",
    "            print(\"must call make_n_samples first!\")\n",
    "            return\n",
    "        else:\n",
    "            if path is None:\n",
    "                export_path = os.getcwd() + \"\\\\data\\\\img_{0}x{0}\".format(self.img_size_total)\n",
    "            else:\n",
    "                export_path = path\n",
    "\n",
    "            if not os.path.exists(export_path):\n",
    "                os.makedirs(export_path)\n",
    "\n",
    "            self._create_dict()\n",
    "            \n",
    "            print(\"starting file export...\")\n",
    "            np.savez_compressed(export_path + \"\\\\img_{0}x{0}\".format(self.img_size_total), **self.images_dict_)\n",
    "            print(\"file exported!\")\n",
    "            return  \n"
   ]
  },
  {
   "cell_type": "markdown",
   "metadata": {},
   "source": [
    "## create dataset and export it"
   ]
  },
  {
   "cell_type": "code",
   "execution_count": 6,
   "metadata": {},
   "outputs": [],
   "source": [
    "import matplotlib.pyplot as plt\n",
    "% matplotlib inline\n"
   ]
  },
  {
   "cell_type": "code",
   "execution_count": 47,
   "metadata": {},
   "outputs": [],
   "source": [
    "point_size = 16*4\n",
    "img_size = 256\n",
    "sigma = 0.10\n",
    "mu = 0.0\n",
    "mag_factor_range = (1,4)\n",
    "padding = 4\n",
    "\n",
    "n_points_range = (2, 6)\n",
    "minVal = 0.\n",
    "maxVal = 1. \n",
    "\n",
    "version = 5"
   ]
  },
  {
   "cell_type": "code",
   "execution_count": 48,
   "metadata": {},
   "outputs": [
    {
     "name": "stdout",
     "output_type": "stream",
     "text": [
      "G:\\Il mio Drive\\conquistiamo l'Universo\\Aurelio\\risoluzione_punti\\notebooks\\CNN autoencoder v3\\data\\img_256x256_v5\n"
     ]
    }
   ],
   "source": [
    "export_path=os.getcwd()+\"\\\\data\\\\img_{0}x{0}_v{1}\".format(img_size,version)\n",
    "print(export_path) "
   ]
  },
  {
   "cell_type": "code",
   "execution_count": 61,
   "metadata": {
    "scrolled": false
   },
   "outputs": [
    {
     "name": "stdout",
     "output_type": "stream",
     "text": [
      "sample 0 created\n",
      "sample 100 created\n",
      "sample 200 created\n",
      "sample 300 created\n",
      "sample 400 created\n",
      "sample 500 created\n",
      "sample 600 created\n",
      "sample 700 created\n",
      "sample 800 created\n",
      "sample 900 created\n",
      "sample 1000 created\n",
      "sample 1100 created\n",
      "sample 1200 created\n",
      "sample 1300 created\n",
      "sample 1400 created\n",
      "sample 1500 created\n",
      "sample 1600 created\n",
      "sample 1700 created\n",
      "sample 1800 created\n",
      "sample 1900 created\n",
      "sample 2000 created\n",
      "sample 2100 created\n",
      "sample 2200 created\n",
      "sample 2300 created\n",
      "sample 2400 created\n",
      "sample 2500 created\n",
      "sample 2600 created\n",
      "sample 2700 created\n",
      "sample 2800 created\n",
      "sample 2900 created\n",
      "sample 3000 created\n",
      "sample 3100 created\n",
      "sample 3200 created\n",
      "sample 3300 created\n",
      "sample 3400 created\n",
      "sample 3500 created\n",
      "sample 3600 created\n",
      "sample 3700 created\n",
      "sample 3800 created\n",
      "sample 3900 created\n",
      "sample 4000 created\n",
      "sample 4100 created\n",
      "sample 4200 created\n",
      "sample 4300 created\n",
      "sample 4400 created\n",
      "sample 4500 created\n",
      "sample 4600 created\n",
      "sample 4700 created\n",
      "sample 4800 created\n",
      "sample 4900 created\n",
      "done!\n"
     ]
    }
   ],
   "source": [
    "n_images = 5000\n",
    "# point_size = 10\n",
    "\n",
    "params = {'img_size': img_size,\n",
    "          'point_size': point_size,\n",
    "          'n_points_range': n_points_range,\n",
    "          'n_images': n_images,\n",
    "          'sigma': sigma,\n",
    "          'mu': mu,\n",
    "          'mag_factor_range': mag_factor_range,\n",
    "          'padding': padding\n",
    "          }\n",
    "\n",
    "dataset1 = MakeDataset(**params) \n",
    "dataset1.make_n_samples(stride_fraction=6)"
   ]
  },
  {
   "cell_type": "code",
   "execution_count": 62,
   "metadata": {},
   "outputs": [
    {
     "name": "stdout",
     "output_type": "stream",
     "text": [
      "starting file export...\n",
      "file exported!\n"
     ]
    }
   ],
   "source": [
    "dataset1.export_dataset(export_path)"
   ]
  },
  {
   "cell_type": "code",
   "execution_count": 63,
   "metadata": {},
   "outputs": [],
   "source": [
    "file_path = export_path + \"\\\\img_{0}x{0}.npz\".format(img_size)\n",
    "dataset_loaded = np.load(file_path)\n"
   ]
  },
  {
   "cell_type": "code",
   "execution_count": 64,
   "metadata": {},
   "outputs": [
    {
     "data": {
      "image/png": "[encoded data removed]",
      "text/plain": [
       "<Figure size 1152x2304 with 2 Axes>"
      ]
     },
     "metadata": {},
     "output_type": "display_data"
    }
   ],
   "source": [
    "sample_id=8\n",
    "fig1, axes1 = plt.subplots(1, 2, figsize=(16, 32))\n",
    "axes1[0].imshow(dataset_loaded['sample-{0}/orig'.format(sample_id)], cmap=\"gray\")\n",
    "axes1[1].imshow(dataset_loaded['sample-{0}/noisy'.format(sample_id)], cmap=\"gray\")\n",
    "fig1.tight_layout()\n",
    "plt.show()"
   ]
  },
  {
   "cell_type": "code",
   "execution_count": 236,
   "metadata": {},
   "outputs": [
    {
     "data": {
      "text/plain": [
       "array([  0., 111., 222., 333., 444., 555., 666., 777., 888., 999.])"
      ]
     },
     "execution_count": 236,
     "metadata": {},
     "output_type": "execute_result"
    }
   ],
   "source": [
    "np.linspace(0,999,10)"
   ]
  },
  {
   "cell_type": "code",
   "execution_count": null,
   "metadata": {},
   "outputs": [],
   "source": []
  }
 ],
 "metadata": {
  "kernelspec": {
   "display_name": "Python 3",
   "language": "python",
   "name": "python3"
  },
  "language_info": {
   "codemirror_mode": {
    "name": "ipython",
    "version": 3
   },
   "file_extension": ".py",
   "mimetype": "text/x-python",
   "name": "python",
   "nbconvert_exporter": "python",
   "pygments_lexer": "ipython3",
   "version": "3.7.3"
  }
 },
 "nbformat": 4,
 "nbformat_minor": 2
}
